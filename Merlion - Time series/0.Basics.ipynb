{
 "cells": [
  {
   "cell_type": "markdown",
   "metadata": {},
   "source": [
    "# Formato de datos de Merlion\n",
    "Este cuaderno explicará cómo utilizar las clases UnivariateTimeSeries y TimeSeries de Merlion. Estas clases son el formato de datos principal utilizado en todo el repositorio. En general, se puede pensar en cada TimeSeries como una colección de objetos UnivariateTimeSeries, uno para cada variable.\n",
    "\n",
    "Empecemos cargando algunos datos usando pandas."
   ]
  },
  {
   "cell_type": "code",
   "execution_count": 1,
   "metadata": {},
   "outputs": [
    {
     "data": {
      "text/html": [
       "<div>\n",
       "<style scoped>\n",
       "    .dataframe tbody tr th:only-of-type {\n",
       "        vertical-align: middle;\n",
       "    }\n",
       "\n",
       "    .dataframe tbody tr th {\n",
       "        vertical-align: top;\n",
       "    }\n",
       "\n",
       "    .dataframe thead th {\n",
       "        text-align: right;\n",
       "    }\n",
       "</style>\n",
       "<table border=\"1\" class=\"dataframe\">\n",
       "  <thead>\n",
       "    <tr style=\"text-align: right;\">\n",
       "      <th></th>\n",
       "      <th>timestamp_millis</th>\n",
       "      <th>kpi</th>\n",
       "      <th>kpi_label</th>\n",
       "    </tr>\n",
       "  </thead>\n",
       "  <tbody>\n",
       "    <tr>\n",
       "      <th>0</th>\n",
       "      <td>1583140320000</td>\n",
       "      <td>667.118</td>\n",
       "      <td>0</td>\n",
       "    </tr>\n",
       "    <tr>\n",
       "      <th>1</th>\n",
       "      <td>1583140380000</td>\n",
       "      <td>611.751</td>\n",
       "      <td>0</td>\n",
       "    </tr>\n",
       "    <tr>\n",
       "      <th>2</th>\n",
       "      <td>1583140440000</td>\n",
       "      <td>599.456</td>\n",
       "      <td>0</td>\n",
       "    </tr>\n",
       "    <tr>\n",
       "      <th>3</th>\n",
       "      <td>1583140500000</td>\n",
       "      <td>621.446</td>\n",
       "      <td>0</td>\n",
       "    </tr>\n",
       "    <tr>\n",
       "      <th>4</th>\n",
       "      <td>1583140560000</td>\n",
       "      <td>1418.234</td>\n",
       "      <td>0</td>\n",
       "    </tr>\n",
       "    <tr>\n",
       "      <th>...</th>\n",
       "      <td>...</td>\n",
       "      <td>...</td>\n",
       "      <td>...</td>\n",
       "    </tr>\n",
       "    <tr>\n",
       "      <th>86802</th>\n",
       "      <td>1588376760000</td>\n",
       "      <td>874.214</td>\n",
       "      <td>0</td>\n",
       "    </tr>\n",
       "    <tr>\n",
       "      <th>86803</th>\n",
       "      <td>1588376820000</td>\n",
       "      <td>937.929</td>\n",
       "      <td>0</td>\n",
       "    </tr>\n",
       "    <tr>\n",
       "      <th>86804</th>\n",
       "      <td>1588376880000</td>\n",
       "      <td>1031.279</td>\n",
       "      <td>0</td>\n",
       "    </tr>\n",
       "    <tr>\n",
       "      <th>86805</th>\n",
       "      <td>1588376940000</td>\n",
       "      <td>1099.698</td>\n",
       "      <td>0</td>\n",
       "    </tr>\n",
       "    <tr>\n",
       "      <th>86806</th>\n",
       "      <td>1588377000000</td>\n",
       "      <td>935.405</td>\n",
       "      <td>0</td>\n",
       "    </tr>\n",
       "  </tbody>\n",
       "</table>\n",
       "<p>86807 rows × 3 columns</p>\n",
       "</div>"
      ],
      "text/plain": [
       "       timestamp_millis       kpi  kpi_label\n",
       "0         1583140320000   667.118          0\n",
       "1         1583140380000   611.751          0\n",
       "2         1583140440000   599.456          0\n",
       "3         1583140500000   621.446          0\n",
       "4         1583140560000  1418.234          0\n",
       "...                 ...       ...        ...\n",
       "86802     1588376760000   874.214          0\n",
       "86803     1588376820000   937.929          0\n",
       "86804     1588376880000  1031.279          0\n",
       "86805     1588376940000  1099.698          0\n",
       "86806     1588377000000   935.405          0\n",
       "\n",
       "[86807 rows x 3 columns]"
      ]
     },
     "execution_count": 1,
     "metadata": {},
     "output_type": "execute_result"
    }
   ],
   "source": [
    "import os\n",
    "import pandas as pd\n",
    "\n",
    "df = pd.read_csv('https://raw.githubusercontent.com/salesforce/Merlion/main/data/example.csv')\n",
    "df"
   ]
  },
  {
   "cell_type": "markdown",
   "metadata": {},
   "source": [
    "La columna timestamp_millis consiste en marcas de tiempo Unix (en unidades de milisegundos), y la columna kpi contiene el valor de la métrica de la serie de tiempo en cada una de esas marcas de tiempo. También crearemos una versión de este marco de datos indexada por tiempo:"
   ]
  },
  {
   "cell_type": "code",
   "execution_count": 2,
   "metadata": {},
   "outputs": [
    {
     "data": {
      "text/html": [
       "<div>\n",
       "<style scoped>\n",
       "    .dataframe tbody tr th:only-of-type {\n",
       "        vertical-align: middle;\n",
       "    }\n",
       "\n",
       "    .dataframe tbody tr th {\n",
       "        vertical-align: top;\n",
       "    }\n",
       "\n",
       "    .dataframe thead th {\n",
       "        text-align: right;\n",
       "    }\n",
       "</style>\n",
       "<table border=\"1\" class=\"dataframe\">\n",
       "  <thead>\n",
       "    <tr style=\"text-align: right;\">\n",
       "      <th></th>\n",
       "      <th>kpi</th>\n",
       "      <th>kpi_label</th>\n",
       "    </tr>\n",
       "    <tr>\n",
       "      <th>timestamp_millis</th>\n",
       "      <th></th>\n",
       "      <th></th>\n",
       "    </tr>\n",
       "  </thead>\n",
       "  <tbody>\n",
       "    <tr>\n",
       "      <th>2020-03-02 09:12:00</th>\n",
       "      <td>667.118</td>\n",
       "      <td>0</td>\n",
       "    </tr>\n",
       "    <tr>\n",
       "      <th>2020-03-02 09:13:00</th>\n",
       "      <td>611.751</td>\n",
       "      <td>0</td>\n",
       "    </tr>\n",
       "    <tr>\n",
       "      <th>2020-03-02 09:14:00</th>\n",
       "      <td>599.456</td>\n",
       "      <td>0</td>\n",
       "    </tr>\n",
       "    <tr>\n",
       "      <th>2020-03-02 09:15:00</th>\n",
       "      <td>621.446</td>\n",
       "      <td>0</td>\n",
       "    </tr>\n",
       "    <tr>\n",
       "      <th>2020-03-02 09:16:00</th>\n",
       "      <td>1418.234</td>\n",
       "      <td>0</td>\n",
       "    </tr>\n",
       "    <tr>\n",
       "      <th>...</th>\n",
       "      <td>...</td>\n",
       "      <td>...</td>\n",
       "    </tr>\n",
       "    <tr>\n",
       "      <th>2020-05-01 23:46:00</th>\n",
       "      <td>874.214</td>\n",
       "      <td>0</td>\n",
       "    </tr>\n",
       "    <tr>\n",
       "      <th>2020-05-01 23:47:00</th>\n",
       "      <td>937.929</td>\n",
       "      <td>0</td>\n",
       "    </tr>\n",
       "    <tr>\n",
       "      <th>2020-05-01 23:48:00</th>\n",
       "      <td>1031.279</td>\n",
       "      <td>0</td>\n",
       "    </tr>\n",
       "    <tr>\n",
       "      <th>2020-05-01 23:49:00</th>\n",
       "      <td>1099.698</td>\n",
       "      <td>0</td>\n",
       "    </tr>\n",
       "    <tr>\n",
       "      <th>2020-05-01 23:50:00</th>\n",
       "      <td>935.405</td>\n",
       "      <td>0</td>\n",
       "    </tr>\n",
       "  </tbody>\n",
       "</table>\n",
       "<p>86807 rows × 2 columns</p>\n",
       "</div>"
      ],
      "text/plain": [
       "                          kpi  kpi_label\n",
       "timestamp_millis                        \n",
       "2020-03-02 09:12:00   667.118          0\n",
       "2020-03-02 09:13:00   611.751          0\n",
       "2020-03-02 09:14:00   599.456          0\n",
       "2020-03-02 09:15:00   621.446          0\n",
       "2020-03-02 09:16:00  1418.234          0\n",
       "...                       ...        ...\n",
       "2020-05-01 23:46:00   874.214          0\n",
       "2020-05-01 23:47:00   937.929          0\n",
       "2020-05-01 23:48:00  1031.279          0\n",
       "2020-05-01 23:49:00  1099.698          0\n",
       "2020-05-01 23:50:00   935.405          0\n",
       "\n",
       "[86807 rows x 2 columns]"
      ]
     },
     "execution_count": 2,
     "metadata": {},
     "output_type": "execute_result"
    }
   ],
   "source": [
    "time_idx_df = df.copy()\n",
    "time_idx_df[\"timestamp_millis\"] = pd.to_datetime(time_idx_df[\"timestamp_millis\"], unit=\"ms\")\n",
    "time_idx_df = time_idx_df.set_index(\"timestamp_millis\")\n",
    "time_idx_df"
   ]
  },
  {
   "cell_type": "markdown",
   "metadata": {},
   "source": [
    "## UnivariateTimeSeries: El bloque de construcción básico\n",
    "\n",
    "La forma más transparente de inicializar una UnivariateTimeSeries es utilizar su constructor. \n",
    "\n",
    "El constructor toma dos argumentos: \n",
    "- time_stamps, una lista de marcas de tiempo Unix (en unidades de segundos) u objetos datetime, \n",
    "- y values, una lista de los valores reales de la serie de tiempo. Opcionalmente, también puede proporcionar un nombre."
   ]
  },
  {
   "cell_type": "code",
   "execution_count": 3,
   "metadata": {},
   "outputs": [],
   "source": [
    "from merlion.utils import UnivariateTimeSeries\n",
    "\n",
    "kpi = UnivariateTimeSeries(\n",
    "    time_stamps=df.timestamp_millis/1000,  # timestamps in units of seconds\n",
    "    values=df.kpi,                         # time series values\n",
    "    name=\"kpi\"                             # optional: a name for this univariate\n",
    ")\n",
    "\n",
    "kpi_label = UnivariateTimeSeries(\n",
    "    time_stamps=df.timestamp_millis/1000,  # timestamps in units of seconds\n",
    "    values=df.kpi_label                    # time series values\n",
    ")"
   ]
  },
  {
   "cell_type": "markdown",
   "metadata": {},
   "source": [
    "Como alternativa, puede inicializar una UnivariateTimeSeries directamente desde un pd.Series indexado por tiempo:"
   ]
  },
  {
   "cell_type": "code",
   "execution_count": 4,
   "metadata": {},
   "outputs": [
    {
     "name": "stdout",
     "output_type": "stream",
     "text": [
      "Are the two UnivariateTimeSeries equal?\n",
      " True\n"
     ]
    }
   ],
   "source": [
    "kpi_equivalent = UnivariateTimeSeries.from_pd(time_idx_df.kpi)\n",
    "print(f\"Are the two UnivariateTimeSeries equal?\\n {(kpi == kpi_equivalent).all()}\")"
   ]
  },
  {
   "cell_type": "markdown",
   "metadata": {},
   "source": [
    "Implementamos la UnivariateTimeSeries como un pd.Series con un DatetimeIndex:\n"
   ]
  },
  {
   "cell_type": "code",
   "execution_count": 5,
   "metadata": {},
   "outputs": [
    {
     "name": "stdout",
     "output_type": "stream",
     "text": [
      "Is UnivariateTimeSeries an instance of pd.Series? True\n"
     ]
    }
   ],
   "source": [
    "print(f\"Is {type(kpi).__name__} an instance of pd.Series? \"\n",
    "      f\"{isinstance(kpi, pd.Series)}\")"
   ]
  },
  {
   "cell_type": "code",
   "execution_count": 6,
   "metadata": {},
   "outputs": [
    {
     "data": {
      "text/plain": [
       "2020-03-02 09:12:00     667.118\n",
       "2020-03-02 09:13:00     611.751\n",
       "2020-03-02 09:14:00     599.456\n",
       "2020-03-02 09:15:00     621.446\n",
       "2020-03-02 09:16:00    1418.234\n",
       "                         ...   \n",
       "2020-05-01 23:46:00     874.214\n",
       "2020-05-01 23:47:00     937.929\n",
       "2020-05-01 23:48:00    1031.279\n",
       "2020-05-01 23:49:00    1099.698\n",
       "2020-05-01 23:50:00     935.405\n",
       "Name: kpi, Length: 86807, dtype: float64"
      ]
     },
     "execution_count": 6,
     "metadata": {},
     "output_type": "execute_result"
    }
   ],
   "source": [
    "kpi"
   ]
  },
  {
   "cell_type": "markdown",
   "metadata": {},
   "source": [
    "También puede convertir una UnivariateTimeSeries en una pd.Series normal de la siguiente manera:"
   ]
  },
  {
   "cell_type": "code",
   "execution_count": 7,
   "metadata": {},
   "outputs": [
    {
     "name": "stdout",
     "output_type": "stream",
     "text": [
      "type(kpi.to_pd()) = <class 'pandas.core.series.Series'>\n"
     ]
    }
   ],
   "source": [
    "print(f\"type(kpi.to_pd()) = {type(kpi.to_pd())}\")"
   ]
  },
  {
   "cell_type": "code",
   "execution_count": 8,
   "metadata": {},
   "outputs": [
    {
     "data": {
      "text/plain": [
       "2020-03-02 09:12:00     667.118\n",
       "2020-03-02 09:13:00     611.751\n",
       "2020-03-02 09:14:00     599.456\n",
       "2020-03-02 09:15:00     621.446\n",
       "2020-03-02 09:16:00    1418.234\n",
       "                         ...   \n",
       "2020-05-01 23:46:00     874.214\n",
       "2020-05-01 23:47:00     937.929\n",
       "2020-05-01 23:48:00    1031.279\n",
       "2020-05-01 23:49:00    1099.698\n",
       "2020-05-01 23:50:00     935.405\n",
       "Name: kpi, Length: 86807, dtype: float64"
      ]
     },
     "execution_count": 8,
     "metadata": {},
     "output_type": "execute_result"
    }
   ],
   "source": [
    "kpi.to_pd()"
   ]
  },
  {
   "cell_type": "markdown",
   "metadata": {},
   "source": [
    "Puede acceder a las marcas de tiempo (como marcas de tiempo o como objetos datetime) y a los valores de forma independiente:\n",
    "- .time_stamps\n",
    "- .index\n",
    "- .values"
   ]
  },
  {
   "cell_type": "code",
   "execution_count": 9,
   "metadata": {},
   "outputs": [
    {
     "data": {
      "text/plain": [
       "[1583140320.0, 1583140380.0, 1583140440.0, 1583140500.0, 1583140560.0]"
      ]
     },
     "execution_count": 9,
     "metadata": {},
     "output_type": "execute_result"
    }
   ],
   "source": [
    "# Get the Unix timestamps (first 5 for brevity)\n",
    "kpi.time_stamps[:5]"
   ]
  },
  {
   "cell_type": "code",
   "execution_count": 10,
   "metadata": {},
   "outputs": [
    {
     "data": {
      "text/plain": [
       "DatetimeIndex(['2020-03-02 09:12:00', '2020-03-02 09:13:00',\n",
       "               '2020-03-02 09:14:00', '2020-03-02 09:15:00',\n",
       "               '2020-03-02 09:16:00'],\n",
       "              dtype='datetime64[ns]', freq=None)"
      ]
     },
     "execution_count": 10,
     "metadata": {},
     "output_type": "execute_result"
    }
   ],
   "source": [
    "# Get the datetimes (this is just the index of the UnivariateTimeSeries,\n",
    "# since we inherit from pd.Series)\n",
    "kpi.index[:5]"
   ]
  },
  {
   "cell_type": "code",
   "execution_count": 11,
   "metadata": {},
   "outputs": [
    {
     "data": {
      "text/plain": [
       "[667.118, 611.751, 599.456, 621.446, 1418.234]"
      ]
     },
     "execution_count": 11,
     "metadata": {},
     "output_type": "execute_result"
    }
   ],
   "source": [
    "# Get the values\n",
    "kpi.values[:5]"
   ]
  },
  {
   "cell_type": "markdown",
   "metadata": {},
   "source": [
    "Puede indexar en un UnivariateTimeSeries para obtener una tupla de (timestamp, value):\n",
    "\n"
   ]
  },
  {
   "cell_type": "code",
   "execution_count": 12,
   "metadata": {},
   "outputs": [
    {
     "name": "stdout",
     "output_type": "stream",
     "text": [
      "kpi[0] = (1583140320.0, 667.118)\n"
     ]
    }
   ],
   "source": [
    "print(f\"kpi[0] = {kpi[0]}\")"
   ]
  },
  {
   "cell_type": "markdown",
   "metadata": {},
   "source": [
    "Si en su lugar se utiliza un índice de corte, se obtendrá una nueva UnivariateTimeSeries:\n"
   ]
  },
  {
   "cell_type": "code",
   "execution_count": 13,
   "metadata": {},
   "outputs": [
    {
     "name": "stdout",
     "output_type": "stream",
     "text": [
      "type(kpi[1:5]) = <class 'merlion.utils.time_series.UnivariateTimeSeries'>\n",
      "\n",
      "kpi[1:5] = \n",
      "\n",
      "2020-03-02 09:13:00     611.751\n",
      "2020-03-02 09:14:00     599.456\n",
      "2020-03-02 09:15:00     621.446\n",
      "2020-03-02 09:16:00    1418.234\n",
      "Name: kpi, dtype: float64\n"
     ]
    }
   ],
   "source": [
    "print(f\"type(kpi[1:5]) = {type(kpi[1:5])}\\n\")\n",
    "print(f\"kpi[1:5] = \\n\\n{kpi[1:5]}\")"
   ]
  },
  {
   "cell_type": "code",
   "execution_count": 14,
   "metadata": {},
   "outputs": [
    {
     "data": {
      "text/plain": [
       "2020-03-02 09:13:00     611.751\n",
       "2020-03-02 09:14:00     599.456\n",
       "2020-03-02 09:15:00     621.446\n",
       "2020-03-02 09:16:00    1418.234\n",
       "Name: kpi, dtype: float64"
      ]
     },
     "execution_count": 14,
     "metadata": {},
     "output_type": "execute_result"
    }
   ],
   "source": [
    "kpi[1:5]"
   ]
  },
  {
   "cell_type": "markdown",
   "metadata": {},
   "source": [
    "La iteración sobre una UnivaraiateTimeSeries iterará sobre tuplas de (timestamp, value):"
   ]
  },
  {
   "cell_type": "code",
   "execution_count": 15,
   "metadata": {},
   "outputs": [
    {
     "name": "stdout",
     "output_type": "stream",
     "text": [
      "(1583140320.0, 667.118)\n",
      "(1583140380.0, 611.751)\n",
      "(1583140440.0, 599.456)\n",
      "(1583140500.0, 621.446)\n",
      "(1583140560.0, 1418.234)\n"
     ]
    }
   ],
   "source": [
    "for t, x in kpi[:5]:\n",
    "    print((t, x))"
   ]
  },
  {
   "cell_type": "markdown",
   "metadata": {},
   "source": [
    "## TimeSeries: Merlion’s Standard Data Class\n",
    "\n",
    "Dado que Merlion es una biblioteca de propósito general que maneja tanto series temporales univariantes como multivariantes, nuestra clase de datos estándar es TimeSeries. Esta clase actúa como una envoltura alrededor de una colección de UnivariateTimeSeries. Elegimos este formato en lugar de un enfoque basado en vectores porque este enfoque es mucho más robusto a los valores perdidos, o diferentes univariados que se muestrean a diferentes ritmos.\n",
    "\n",
    "La forma más transparente de inicializar una TimeSeries es con su constructor, que toma una colección (lista o diccionario (ordenado)) de UnivariateTimeSeries como único argumento:\n"
   ]
  },
  {
   "cell_type": "code",
   "execution_count": 16,
   "metadata": {},
   "outputs": [],
   "source": [
    "from collections import OrderedDict\n",
    "from merlion.utils import TimeSeries\n",
    "\n",
    "time_series_list = TimeSeries(univariates=[kpi.copy(), kpi_label.copy()])\n",
    "time_series_dict = TimeSeries(\n",
    "    univariates=OrderedDict([(\"kpi_renamed\", kpi.copy()),\n",
    "                             (\"kpi_label\", kpi_label.copy())]))"
   ]
  },
  {
   "cell_type": "code",
   "execution_count": 17,
   "metadata": {},
   "outputs": [
    {
     "data": {
      "text/plain": [
       "                          kpi  kpi_label\n",
       "2020-03-02 09:12:00   667.118        0.0\n",
       "2020-03-02 09:13:00   611.751        0.0\n",
       "2020-03-02 09:14:00   599.456        0.0\n",
       "2020-03-02 09:15:00   621.446        0.0\n",
       "2020-03-02 09:16:00  1418.234        0.0\n",
       "...                       ...        ...\n",
       "2020-05-01 23:46:00   874.214        0.0\n",
       "2020-05-01 23:47:00   937.929        0.0\n",
       "2020-05-01 23:48:00  1031.279        0.0\n",
       "2020-05-01 23:49:00  1099.698        0.0\n",
       "2020-05-01 23:50:00   935.405        0.0\n",
       "\n",
       "[86807 rows x 2 columns]"
      ]
     },
     "execution_count": 17,
     "metadata": {},
     "output_type": "execute_result"
    }
   ],
   "source": [
    "time_series_list"
   ]
  },
  {
   "cell_type": "code",
   "execution_count": 18,
   "metadata": {},
   "outputs": [
    {
     "data": {
      "text/plain": [
       "                     kpi_renamed  kpi_label\n",
       "2020-03-02 09:12:00      667.118        0.0\n",
       "2020-03-02 09:13:00      611.751        0.0\n",
       "2020-03-02 09:14:00      599.456        0.0\n",
       "2020-03-02 09:15:00      621.446        0.0\n",
       "2020-03-02 09:16:00     1418.234        0.0\n",
       "...                          ...        ...\n",
       "2020-05-01 23:46:00      874.214        0.0\n",
       "2020-05-01 23:47:00      937.929        0.0\n",
       "2020-05-01 23:48:00     1031.279        0.0\n",
       "2020-05-01 23:49:00     1099.698        0.0\n",
       "2020-05-01 23:50:00      935.405        0.0\n",
       "\n",
       "[86807 rows x 2 columns]"
      ]
     },
     "execution_count": 18,
     "metadata": {},
     "output_type": "execute_result"
    }
   ],
   "source": [
    "time_series_dict"
   ]
  },
  {
   "cell_type": "code",
   "execution_count": 19,
   "metadata": {},
   "outputs": [
    {
     "data": {
      "text/plain": [
       "(merlion.utils.time_series.TimeSeries, merlion.utils.time_series.TimeSeries)"
      ]
     },
     "execution_count": 19,
     "metadata": {},
     "output_type": "execute_result"
    }
   ],
   "source": [
    "type(time_series_dict),type(time_series_list)"
   ]
  },
  {
   "cell_type": "markdown",
   "metadata": {},
   "source": [
    "Alternativamente, **puede inicializar una TimeSeries desde un pd.DataFrame y convertir una TimeSeries a un pd.DataFrame como sigue:**"
   ]
  },
  {
   "cell_type": "code",
   "execution_count": 20,
   "metadata": {},
   "outputs": [
    {
     "name": "stdout",
     "output_type": "stream",
     "text": [
      "type(TimeSeries.from_pd(time_idx_df)) = <class 'merlion.utils.time_series.TimeSeries'>\n",
      "\n",
      "(recovered_time_idx_df == time_idx_df).all()\n",
      "kpi          True\n",
      "kpi_label    True\n",
      "dtype: bool\n"
     ]
    }
   ],
   "source": [
    "time_series = TimeSeries.from_pd(time_idx_df)\n",
    "print(f\"type(TimeSeries.from_pd(time_idx_df)) = {type(time_series)}\\n\")\n",
    "\n",
    "recovered_time_idx_df = time_series.to_pd()\n",
    "print(\"(recovered_time_idx_df == time_idx_df).all()\")\n",
    "print((recovered_time_idx_df == time_idx_df).all())"
   ]
  },
  {
   "cell_type": "markdown",
   "metadata": {},
   "source": [
    "Podemos acceder a los nombres de las univariantes individuales con time_series.names, acceder a una univariante específica a través de time_series.univariates[name], e iterar sobre las univariantes iterando por univariante en time_series.univariates. Concretamente:"
   ]
  },
  {
   "cell_type": "code",
   "execution_count": 21,
   "metadata": {},
   "outputs": [
    {
     "name": "stdout",
     "output_type": "stream",
     "text": [
      "['kpi', 'kpi_label']\n"
     ]
    }
   ],
   "source": [
    "# When we use a list of univariates, we retain the names of the univariates\n",
    "# where possible. If a univariate is unnamed, we set its name to its integer\n",
    "# index in the list of all univariates given. Here, kpi_label was\n",
    "# originally unnamed, so we set its name to 1\n",
    "print(time_series_list.names)"
   ]
  },
  {
   "cell_type": "code",
   "execution_count": 22,
   "metadata": {},
   "outputs": [
    {
     "name": "stdout",
     "output_type": "stream",
     "text": [
      "['kpi_renamed', 'kpi_label']\n"
     ]
    }
   ],
   "source": [
    "# If we pass a dictionary instead of a list, all univariates will have\n",
    "# their specified names. The order is retained from the OrderedDict.\n",
    "print(time_series_dict.names)"
   ]
  },
  {
   "cell_type": "code",
   "execution_count": 23,
   "metadata": {},
   "outputs": [],
   "source": [
    "# We can access the KPI like so:\n",
    "kpi1 = time_series_list.univariates[\"kpi\"]\n",
    "kpi2 = time_series_dict.univariates[\"kpi_renamed\"]\n",
    "\n",
    "# kpi1 and kpi2 are the same univariate, just with different names\n",
    "assert (kpi1 == kpi2).all() #assert()  permite expresar una condición que ha de ser cierta siempre, ya que de no serlo se interrumpirá el programa."
   ]
  },
  {
   "cell_type": "code",
   "execution_count": 24,
   "metadata": {},
   "outputs": [
    {
     "name": "stdout",
     "output_type": "stream",
     "text": [
      "2020-03-02 09:12:00     667.118\n",
      "2020-03-02 09:13:00     611.751\n",
      "2020-03-02 09:14:00     599.456\n",
      "2020-03-02 09:15:00     621.446\n",
      "2020-03-02 09:16:00    1418.234\n",
      "                         ...   \n",
      "2020-05-01 23:46:00     874.214\n",
      "2020-05-01 23:47:00     937.929\n",
      "2020-05-01 23:48:00    1031.279\n",
      "2020-05-01 23:49:00    1099.698\n",
      "2020-05-01 23:50:00     935.405\n",
      "Name: kpi_renamed, Length: 86807, dtype: float64\n",
      "\n",
      "2020-03-02 09:12:00    0.0\n",
      "2020-03-02 09:13:00    0.0\n",
      "2020-03-02 09:14:00    0.0\n",
      "2020-03-02 09:15:00    0.0\n",
      "2020-03-02 09:16:00    0.0\n",
      "                      ... \n",
      "2020-05-01 23:46:00    0.0\n",
      "2020-05-01 23:47:00    0.0\n",
      "2020-05-01 23:48:00    0.0\n",
      "2020-05-01 23:49:00    0.0\n",
      "2020-05-01 23:50:00    0.0\n",
      "Name: kpi_label, Length: 86807, dtype: float64\n",
      "\n"
     ]
    }
   ],
   "source": [
    "# We can iterate over all univariates like so:\n",
    "for univariate in time_series_dict.univariates:\n",
    "    print(univariate)\n",
    "    print()"
   ]
  },
  {
   "cell_type": "code",
   "execution_count": 25,
   "metadata": {},
   "outputs": [
    {
     "name": "stdout",
     "output_type": "stream",
     "text": [
      "- Univariate KPI_RENAMED\n",
      "2020-03-02 09:12:00     667.118\n",
      "2020-03-02 09:13:00     611.751\n",
      "2020-03-02 09:14:00     599.456\n",
      "2020-03-02 09:15:00     621.446\n",
      "2020-03-02 09:16:00    1418.234\n",
      "                         ...   \n",
      "2020-05-01 23:46:00     874.214\n",
      "2020-05-01 23:47:00     937.929\n",
      "2020-05-01 23:48:00    1031.279\n",
      "2020-05-01 23:49:00    1099.698\n",
      "2020-05-01 23:50:00     935.405\n",
      "Name: kpi_renamed, Length: 86807, dtype: float64\n",
      "\n",
      "- Univariate KPI_LABEL\n",
      "2020-03-02 09:12:00    0.0\n",
      "2020-03-02 09:13:00    0.0\n",
      "2020-03-02 09:14:00    0.0\n",
      "2020-03-02 09:15:00    0.0\n",
      "2020-03-02 09:16:00    0.0\n",
      "                      ... \n",
      "2020-05-01 23:46:00    0.0\n",
      "2020-05-01 23:47:00    0.0\n",
      "2020-05-01 23:48:00    0.0\n",
      "2020-05-01 23:49:00    0.0\n",
      "2020-05-01 23:50:00    0.0\n",
      "Name: kpi_label, Length: 86807, dtype: float64\n",
      "\n"
     ]
    }
   ],
   "source": [
    "# We can also iterate over all univariates & names like so:\n",
    "for name, univariate in time_series_dict.items():\n",
    "    print(f\"- Univariate {name.upper()}\")\n",
    "    print(univariate)\n",
    "    print()"
   ]
  },
  {
   "cell_type": "markdown",
   "metadata": {},
   "source": [
    "## Time Series Indexing & Alignment\n",
    "\n"
   ]
  },
  {
   "cell_type": "markdown",
   "metadata": {},
   "source": [
    "Un concepto importante de TimeSeries en Merlion es la alineación.   \n",
    "Llamamos a una serie de tiempo alineada si todas sus univariables son muestreadas en las mismas marcas de tiempo.   \n",
    "A continuación ilustramos ejemplos de series temporales que están y no están alineadas:"
   ]
  },
  {
   "cell_type": "code",
   "execution_count": 26,
   "metadata": {},
   "outputs": [
    {
     "name": "stdout",
     "output_type": "stream",
     "text": [
      "Is aligned? True\n"
     ]
    }
   ],
   "source": [
    "aligned = TimeSeries({\"kpi\": kpi.copy(), \"kpi_label\": kpi_label.copy()})\n",
    "print(f\"Is aligned? {aligned.is_aligned}\")"
   ]
  },
  {
   "cell_type": "code",
   "execution_count": 27,
   "metadata": {},
   "outputs": [
    {
     "name": "stdout",
     "output_type": "stream",
     "text": [
      "Is aligned? False\n"
     ]
    }
   ],
   "source": [
    "not_aligned = TimeSeries({\"kpi\": kpi[1:],                # 2020-03-02 09:13:00 to 2020-05-01 23:50:00\n",
    "                          \"kpi_label\": kpi_label[:-1]})  # 2020-03-02 09:12:00 to 2020-05-01 23:49:00\n",
    "print(f\"Is aligned? {not_aligned.is_aligned}\")"
   ]
  },
  {
   "cell_type": "code",
   "execution_count": 28,
   "metadata": {},
   "outputs": [
    {
     "data": {
      "text/plain": [
       "                          kpi  kpi_label\n",
       "2020-03-02 09:12:00       NaN        0.0\n",
       "2020-03-02 09:13:00   611.751        0.0\n",
       "2020-03-02 09:14:00   599.456        0.0\n",
       "2020-03-02 09:15:00   621.446        0.0\n",
       "2020-03-02 09:16:00  1418.234        0.0\n",
       "...                       ...        ...\n",
       "2020-05-01 23:46:00   874.214        0.0\n",
       "2020-05-01 23:47:00   937.929        0.0\n",
       "2020-05-01 23:48:00  1031.279        0.0\n",
       "2020-05-01 23:49:00  1099.698        0.0\n",
       "2020-05-01 23:50:00   935.405        NaN\n",
       "\n",
       "[86807 rows x 2 columns]"
      ]
     },
     "execution_count": 28,
     "metadata": {},
     "output_type": "execute_result"
    }
   ],
   "source": [
    "not_aligned"
   ]
  },
  {
   "cell_type": "markdown",
   "metadata": {},
   "source": [
    "Si su serie temporal está alineada, puede utilizar un índice entero para obtener una tupla (timestamp, (value_1, ..., value_k)), o un índice slice para obtener una sub-serie temporal:"
   ]
  },
  {
   "cell_type": "code",
   "execution_count": 29,
   "metadata": {},
   "outputs": [
    {
     "data": {
      "text/plain": [
       "(1583140320.0, (667.118, 0.0))"
      ]
     },
     "execution_count": 29,
     "metadata": {},
     "output_type": "execute_result"
    }
   ],
   "source": [
    "aligned[0]\n"
   ]
  },
  {
   "cell_type": "code",
   "execution_count": 30,
   "metadata": {},
   "outputs": [
    {
     "name": "stdout",
     "output_type": "stream",
     "text": [
      "type(aligned[1:5]) = <class 'merlion.utils.time_series.TimeSeries'>\n",
      "\n",
      "aligned[1:5] = \n",
      "                          kpi  kpi_label\n",
      "2020-03-02 09:13:00   611.751        0.0\n",
      "2020-03-02 09:14:00   599.456        0.0\n",
      "2020-03-02 09:15:00   621.446        0.0\n",
      "2020-03-02 09:16:00  1418.234        0.0\n"
     ]
    }
   ],
   "source": [
    "print(f\"type(aligned[1:5]) = {type(aligned[1:5])}\\n\")\n",
    "print(f\"aligned[1:5] = \\n{aligned[1:5]}\")"
   ]
  },
  {
   "cell_type": "markdown",
   "metadata": {},
   "source": [
    "También puede iterar sobre una serie temporal alineada como para timestamp, (valor_1, ..., valor_k) en time_series:\n"
   ]
  },
  {
   "cell_type": "code",
   "execution_count": 31,
   "metadata": {},
   "outputs": [
    {
     "name": "stdout",
     "output_type": "stream",
     "text": [
      "(1583140320.0, (667.118, 0.0))\n",
      "(1583140380.0, (611.751, 0.0))\n",
      "(1583140440.0, (599.456, 0.0))\n",
      "(1583140500.0, (621.446, 0.0))\n",
      "(1583140560.0, (1418.234, 0.0))\n"
     ]
    }
   ],
   "source": [
    "for t, (x1, x2) in aligned[:5]:\n",
    "    print((t, (x1, x2)))"
   ]
  },
  {
   "cell_type": "markdown",
   "metadata": {},
   "source": [
    "**¡Nota a tener en cuenta!**\n",
    "> Tenga en cuenta que Merlion arrojará un error si intenta hacer cualquiera de estas cosas con una serie temporal que no esté alineada. Por ejemplo,\n"
   ]
  },
  {
   "cell_type": "code",
   "execution_count": 32,
   "metadata": {},
   "outputs": [
    {
     "name": "stdout",
     "output_type": "stream",
     "text": [
      "RuntimeError: The univariates comprising this time series are not aligned (they have different time stamps), but alignment is required to index into the time series.\n"
     ]
    }
   ],
   "source": [
    "try:\n",
    "    not_aligned[0]\n",
    "except RuntimeError as e:\n",
    "    print(f\"{type(e).__name__}: {e}\")"
   ]
  },
  {
   "cell_type": "markdown",
   "metadata": {},
   "source": [
    "You can still get the length/shape of a misaligned time series, but Merlion will emit a warning.\n",
    "\n"
   ]
  },
  {
   "cell_type": "code",
   "execution_count": 33,
   "metadata": {},
   "outputs": [
    {
     "name": "stderr",
     "output_type": "stream",
     "text": [
      "C:\\Users\\Julen Montes\\Anaconda\\lib\\site-packages\\merlion\\utils\\time_series.py:617: UserWarning: The univariates comprising this time series are not aligned (they have different time stamps). The length returned is equal to the length of the _union_ of all time stamps present in any of the univariates.\n",
      "  warnings.warn(warning)\n",
      "The univariates comprising this time series are not aligned (they have different time stamps). The length returned is equal to the length of the _union_ of all time stamps present in any of the univariates.\n"
     ]
    },
    {
     "name": "stdout",
     "output_type": "stream",
     "text": [
      "86807\n"
     ]
    }
   ],
   "source": [
    "print(len(not_aligned))"
   ]
  },
  {
   "cell_type": "code",
   "execution_count": 34,
   "metadata": {},
   "outputs": [
    {
     "name": "stderr",
     "output_type": "stream",
     "text": [
      "The univariates comprising this time series are not aligned (they have different time stamps). The length returned is equal to the length of the _union_ of all time stamps present in any of the univariates.\n"
     ]
    },
    {
     "name": "stdout",
     "output_type": "stream",
     "text": [
      "(2, 86807)\n"
     ]
    }
   ],
   "source": [
    "print(not_aligned.shape)"
   ]
  },
  {
   "cell_type": "markdown",
   "metadata": {},
   "source": [
    "Sin embargo, se puede llamar a time_series.align() para remuestrear automáticamente las univariantes individuales de una serie temporal para que esté alineada. Por defecto, esto tomará la unión de todas las marcas de tiempo presentes en cualquiera de las univariantes individuales, pero esto es personalizable."
   ]
  },
  {
   "cell_type": "code",
   "execution_count": 35,
   "metadata": {},
   "outputs": [
    {
     "name": "stdout",
     "output_type": "stream",
     "text": [
      "Is not_aligned.align() aligned? True\n"
     ]
    }
   ],
   "source": [
    "print(f\"Is not_aligned.align() aligned? {not_aligned.align().is_aligned}\")"
   ]
  },
  {
   "cell_type": "code",
   "execution_count": 36,
   "metadata": {},
   "outputs": [
    {
     "name": "stdout",
     "output_type": "stream",
     "text": [
      "                          kpi  kpi_label\n",
      "2020-03-02 09:12:00       NaN        0.0\n",
      "2020-03-02 09:13:00   611.751        0.0\n",
      "2020-03-02 09:14:00   599.456        0.0\n",
      "2020-03-02 09:15:00   621.446        0.0\n",
      "2020-03-02 09:16:00  1418.234        0.0\n",
      "...                       ...        ...\n",
      "2020-05-01 23:46:00   874.214        0.0\n",
      "2020-05-01 23:47:00   937.929        0.0\n",
      "2020-05-01 23:48:00  1031.279        0.0\n",
      "2020-05-01 23:49:00  1099.698        0.0\n",
      "2020-05-01 23:50:00   935.405        NaN\n",
      "\n",
      "[86807 rows x 2 columns]\n",
      "                          kpi  kpi_label\n",
      "2020-03-02 09:13:00   611.751        0.0\n",
      "2020-03-02 09:14:00   599.456        0.0\n",
      "2020-03-02 09:15:00   621.446        0.0\n",
      "2020-03-02 09:16:00  1418.234        0.0\n",
      "2020-03-02 09:17:00  1015.559        0.0\n",
      "...                       ...        ...\n",
      "2020-05-01 23:45:00   981.007        0.0\n",
      "2020-05-01 23:46:00   874.214        0.0\n",
      "2020-05-01 23:47:00   937.929        0.0\n",
      "2020-05-01 23:48:00  1031.279        0.0\n",
      "2020-05-01 23:49:00  1099.698        0.0\n",
      "\n",
      "[86805 rows x 2 columns]\n"
     ]
    }
   ],
   "source": [
    "print(not_aligned)\n",
    "print(not_aligned.align())"
   ]
  },
  {
   "cell_type": "markdown",
   "metadata": {},
   "source": [
    "## TimeSeries: Algunas características útiles\n",
    "\n",
    "Proporcionamos mucha más información sobre la clase merlion.utils.time_series.TimeSeries en los documentos de la API, pero aquí destacamos dos características más útiles. ¡Estas funcionan independientemente de si una serie temporal está alineada!\n",
    "\n",
    "Puede **obtener el subconjunto de una serie temporal entre los tiempos t0 y tf llamando a time_series.window(t0, tf)**.  \n",
    "t0 y tf pueden ser cualquier formato razonable de fecha-hora, o una marca de tiempo Unix.\n"
   ]
  },
  {
   "cell_type": "code",
   "execution_count": 37,
   "metadata": {},
   "outputs": [
    {
     "data": {
      "text/plain": [
       "                          kpi  kpi_label\n",
       "2020-03-02 09:12:00   667.118        0.0\n",
       "2020-03-02 09:13:00   611.751        0.0\n",
       "2020-03-02 09:14:00   599.456        0.0\n",
       "2020-03-02 09:15:00   621.446        0.0\n",
       "2020-03-02 09:16:00  1418.234        0.0\n",
       "...                       ...        ...\n",
       "2020-05-01 23:46:00   874.214        0.0\n",
       "2020-05-01 23:47:00   937.929        0.0\n",
       "2020-05-01 23:48:00  1031.279        0.0\n",
       "2020-05-01 23:49:00  1099.698        0.0\n",
       "2020-05-01 23:50:00   935.405        0.0\n",
       "\n",
       "[86807 rows x 2 columns]"
      ]
     },
     "execution_count": 37,
     "metadata": {},
     "output_type": "execute_result"
    }
   ],
   "source": [
    "aligned"
   ]
  },
  {
   "cell_type": "code",
   "execution_count": 38,
   "metadata": {},
   "outputs": [
    {
     "data": {
      "text/plain": [
       "                          kpi  kpi_label\n",
       "2020-03-05 12:00:00  1166.819        0.0\n",
       "2020-03-05 12:01:00  1345.504        0.0\n",
       "2020-03-05 12:02:00  1061.391        0.0\n",
       "2020-03-05 12:03:00  1260.874        0.0\n",
       "2020-03-05 12:04:00  1202.009        0.0\n",
       "...                       ...        ...\n",
       "2020-03-31 23:55:00  1154.397        0.0\n",
       "2020-03-31 23:56:00  1270.292        0.0\n",
       "2020-03-31 23:57:00  1160.761        0.0\n",
       "2020-03-31 23:58:00  1082.076        0.0\n",
       "2020-03-31 23:59:00  1167.297        0.0\n",
       "\n",
       "[38160 rows x 2 columns]"
      ]
     },
     "execution_count": 38,
     "metadata": {},
     "output_type": "execute_result"
    }
   ],
   "source": [
    "# Para filtar entre 2020-03-05 12:00:00 y 2020-04-01\n",
    "aligned.window(\"2020-03-05 12:00:00\", pd.Timestamp(year=2020, month=4, day=1))"
   ]
  },
  {
   "cell_type": "code",
   "execution_count": 39,
   "metadata": {},
   "outputs": [
    {
     "data": {
      "text/plain": [
       "                          kpi  kpi_label\n",
       "2020-03-02 09:12:00       NaN        0.0\n",
       "2020-03-02 09:13:00   611.751        0.0\n",
       "2020-03-02 09:14:00   599.456        0.0\n",
       "2020-03-02 09:15:00   621.446        0.0\n",
       "2020-03-02 09:16:00  1418.234        0.0\n",
       "...                       ...        ...\n",
       "2020-03-03 09:07:00  1132.564        0.0\n",
       "2020-03-03 09:08:00  1087.037        0.0\n",
       "2020-03-03 09:09:00   984.432        0.0\n",
       "2020-03-03 09:10:00  1085.008        0.0\n",
       "2020-03-03 09:11:00  1020.937        0.0\n",
       "\n",
       "[1440 rows x 2 columns]"
      ]
     },
     "execution_count": 39,
     "metadata": {},
     "output_type": "execute_result"
    }
   ],
   "source": [
    "# Note that the first value of the KPI (which is missing in not_aligned) is NaN\n",
    "not_aligned.window(1583140320, 1583226720)"
   ]
  },
  {
   "cell_type": "markdown",
   "metadata": {},
   "source": [
    "También puede dividir una serie temporal en una parte izquierda y otra derecha, en cualquier fecha.\n"
   ]
  },
  {
   "cell_type": "code",
   "execution_count": 40,
   "metadata": {},
   "outputs": [
    {
     "name": "stdout",
     "output_type": "stream",
     "text": [
      "Left\n",
      "                          kpi  kpi_label\n",
      "2020-03-02 09:12:00   667.118        0.0\n",
      "2020-03-02 09:13:00   611.751        0.0\n",
      "2020-03-02 09:14:00   599.456        0.0\n",
      "2020-03-02 09:15:00   621.446        0.0\n",
      "2020-03-02 09:16:00  1418.234        0.0\n",
      "...                       ...        ...\n",
      "2020-04-30 23:55:00  1296.091        0.0\n",
      "2020-04-30 23:56:00  1323.743        0.0\n",
      "2020-04-30 23:57:00  1203.672        0.0\n",
      "2020-04-30 23:58:00  1278.720        0.0\n",
      "2020-04-30 23:59:00  1217.877        0.0\n",
      "\n",
      "[85376 rows x 2 columns]\n",
      "\n",
      "\n",
      "Right\n",
      "                          kpi  kpi_label\n",
      "2020-05-01 00:00:00  1381.110        0.0\n",
      "2020-05-01 00:01:00  1807.039        0.0\n",
      "2020-05-01 00:02:00  1833.385        0.0\n",
      "2020-05-01 00:03:00  1674.412        0.0\n",
      "2020-05-01 00:04:00  1683.194        0.0\n",
      "...                       ...        ...\n",
      "2020-05-01 23:46:00   874.214        0.0\n",
      "2020-05-01 23:47:00   937.929        0.0\n",
      "2020-05-01 23:48:00  1031.279        0.0\n",
      "2020-05-01 23:49:00  1099.698        0.0\n",
      "2020-05-01 23:50:00   935.405        0.0\n",
      "\n",
      "[1431 rows x 2 columns]\n",
      "\n"
     ]
    }
   ],
   "source": [
    "left, right = aligned.bisect(\"2020-05-01\")\n",
    "\n",
    "print(f\"Left\\n{left}\\n\")\n",
    "print()\n",
    "print(f\"Right\\n{right}\\n\")"
   ]
  }
 ],
 "metadata": {
  "kernelspec": {
   "display_name": "Python 3",
   "language": "python",
   "name": "python3"
  },
  "language_info": {
   "codemirror_mode": {
    "name": "ipython",
    "version": 3
   },
   "file_extension": ".py",
   "mimetype": "text/x-python",
   "name": "python",
   "nbconvert_exporter": "python",
   "pygments_lexer": "ipython3",
   "version": "3.8.5"
  }
 },
 "nbformat": 4,
 "nbformat_minor": 4
}
